{
 "cells": [
  {
   "cell_type": "markdown",
   "id": "9239679b",
   "metadata": {},
   "source": [
    "Pair Numpy"
   ]
  },
  {
   "cell_type": "code",
   "execution_count": 9,
   "id": "0c53be65",
   "metadata": {},
   "outputs": [
    {
     "name": "stdout",
     "output_type": "stream",
     "text": [
      "Requirement already satisfied: numpy in /opt/anaconda3/lib/python3.12/site-packages (1.26.4)\n"
     ]
    }
   ],
   "source": [
    "!pip install numpy\n",
    "import numpy as np"
   ]
  },
  {
   "cell_type": "code",
   "execution_count": 21,
   "id": "13b5888d",
   "metadata": {},
   "outputs": [
    {
     "name": "stdout",
     "output_type": "stream",
     "text": [
      "[40 10 74 49 55 39 75 27 57 11 73 79 31 42 95 27 68 72 83 57 51 94 94 96\n",
      " 44 39 87 11 79 68 47 86 98 17 43 98 37 30 28 20 33 39 88 50 35 17 91 18\n",
      " 44 16]\n"
     ]
    }
   ],
   "source": [
    "# Creación y Indexación:\n",
    "# Crea un array 1D con 50 valores aleatorio del 10 al 99. Accede a los elementos en las posiciones múltiplos de 5.\n",
    "\n",
    "array_1d = np.random.randint(10, 99, size=50)\n",
    "print(array_1d)"
   ]
  },
  {
   "cell_type": "code",
   "execution_count": null,
   "id": "85b74c9d",
   "metadata": {},
   "outputs": [
    {
     "data": {
      "text/plain": [
       "array([40, 39, 73, 27, 51, 39, 47, 98, 33, 17])"
      ]
     },
     "execution_count": 23,
     "metadata": {},
     "output_type": "execute_result"
    }
   ],
   "source": [
    "array_1d[::5] # los que estan en posicion 5"
   ]
  },
  {
   "cell_type": "code",
   "execution_count": 22,
   "id": "392b5f6b",
   "metadata": {},
   "outputs": [
    {
     "data": {
      "text/plain": [
       "(array([ 0,  1,  4,  6, 14, 37, 39, 43, 44]),)"
      ]
     },
     "execution_count": 22,
     "metadata": {},
     "output_type": "execute_result"
    }
   ],
   "source": [
    "np.where(array_1d %5 == 0) # los indices que tienen valores multiplos de 5"
   ]
  },
  {
   "cell_type": "code",
   "execution_count": null,
   "id": "e7e152fd",
   "metadata": {},
   "outputs": [
    {
     "name": "stdout",
     "output_type": "stream",
     "text": [
      "[12  9  6 19  7  6  8  3  4  9 12 18  9  8 17 16 13 13 16 13  8  2 10  6\n",
      " 15 19 20  6 10 17]\n"
     ]
    }
   ],
   "source": [
    "# Crea un array 1D con 30 valores aleatorios del 1 al 20 (ambos incluidos). \n",
    "# Utiliza indexación para obtener los elementos en las posiciones impares.\n",
    "\n",
    "array_1d = np.random.randint(1,21, size = 30) # incluir uno mas, pues exclui el ultimo \n",
    "print(array_1d)"
   ]
  },
  {
   "cell_type": "code",
   "execution_count": null,
   "id": "98ddc886",
   "metadata": {},
   "outputs": [
    {
     "data": {
      "text/plain": [
       "(array([ 1,  3,  4,  7,  9, 12, 14, 16, 17, 19, 24, 25, 29]),)"
      ]
     },
     "execution_count": 20,
     "metadata": {},
     "output_type": "execute_result"
    }
   ],
   "source": [
    "np.where(array_1d %2 == 1) # son las posiciones "
   ]
  },
  {
   "cell_type": "code",
   "execution_count": null,
   "id": "94710151",
   "metadata": {},
   "outputs": [
    {
     "name": "stdout",
     "output_type": "stream",
     "text": [
      "[[0.8159887  0.40219688 0.50660085 0.77814982 0.21467033 0.92829939]\n",
      " [0.41424258 0.21703187 0.09164809 0.18861729 0.89897045 0.67229545]\n",
      " [0.57408217 0.89095989 0.25878641 0.84155201 0.24158505 0.80070013]\n",
      " [0.61092855 0.74158242 0.34843975 0.98324291 0.15689216 0.28820798]]\n"
     ]
    }
   ],
   "source": [
    "\n",
    "# Crea un array 2D de forma (4, 6) con números aleatorios decimales (no deben estar comprendidos solo entre 0 y 1). \n",
    "# Accede a la última fila de la matriz. \n",
    "# Los decimales deben estar redondeados a 2 decimales.\n",
    "\n",
    "array_2d = np.random.rand(4,6) # uniform genera flotantes # 4 = filas, 6 = columnas \n",
    "print(array_2d)"
   ]
  },
  {
   "cell_type": "code",
   "execution_count": 45,
   "id": "291627ef",
   "metadata": {},
   "outputs": [
    {
     "data": {
      "text/plain": [
       "3.59"
      ]
     },
     "execution_count": 45,
     "metadata": {},
     "output_type": "execute_result"
    }
   ],
   "source": [
    "3 + 0.59 # se puede"
   ]
  },
  {
   "cell_type": "code",
   "execution_count": 53,
   "id": "4d2b9930",
   "metadata": {},
   "outputs": [
    {
     "data": {
      "text/plain": [
       "array([0.70561765, 1.64330835, 6.56330043, 6.51827352, 7.00421669,\n",
       "       0.93083031])"
      ]
     },
     "execution_count": 53,
     "metadata": {},
     "output_type": "execute_result"
    }
   ],
   "source": [
    "array_2d[3]\n",
    "array_2d[-1]"
   ]
  },
  {
   "cell_type": "code",
   "execution_count": 54,
   "id": "816456b7",
   "metadata": {},
   "outputs": [
    {
     "name": "stdout",
     "output_type": "stream",
     "text": [
      "[0.71 1.64 6.56 6.52 7.   0.93]\n"
     ]
    }
   ],
   "source": [
    "print(np.round(array_2d[-1], 2)) # rondedeamos a 2 decimales"
   ]
  },
  {
   "cell_type": "code",
   "execution_count": null,
   "id": "09acc3ea",
   "metadata": {},
   "outputs": [
    {
     "name": "stdout",
     "output_type": "stream",
     "text": [
      "[[[0.8 0.3 0.6 0.9 0.7]\n",
      "  [0.  0.1 0.1 0.6 0.5]\n",
      "  [0.1 0.4 0.7 0.4 0.6]]\n",
      "\n",
      " [[0.8 0.1 0.6 0.3 0.5]\n",
      "  [0.4 0.2 0.3 0.4 0.3]\n",
      "  [0.8 0.8 0.8 0.6 1. ]]]\n"
     ]
    }
   ],
   "source": [
    "# Funciones Aritméticas y Estadísticas:\n",
    "# Crea un array de tres 3D con elementos entre el 0 y 1 de forma (2, 3, 5) cuyos valores solo tengan 1 decimal.\n",
    "\n",
    "array_3d = np.random.rand(2, 3, 5)\n",
    "array_3d_decimal = np.round(array_3d, 1) # 1 es el decimal \n",
    "print(array_3d_decimal)\n"
   ]
  },
  {
   "cell_type": "code",
   "execution_count": null,
   "id": "79dd50e3",
   "metadata": {},
   "outputs": [],
   "source": [
    "# Crea un array vacío con la misma forma y dimensiones que el array creado anteriormente. \n",
    "# Vamos a reemplazar los valores de la matriz vacía que nos acabamos de crear pero basándonos en los valores del primer array bajo las siguientes condiciones:\n",
    "# Si el valor del array es igual que la media, se reemplaza por \"A\".\n",
    "# Si el valor del array es mayor que la media, se reemplaza por \"B\".\n",
    "# Si el valor del array es menor que la media, se reemplaza por \"C\".\n",
    "# Si el valor es igual que el máximo, se reemplaza por \"D\".\n",
    "# Si el valor es igual que el mínimo, se reemplaza por \"E\"."
   ]
  },
  {
   "cell_type": "markdown",
   "id": "69058178",
   "metadata": {},
   "source": [
    "Si te queda tiempo, puedes hacer los siguientes ejercicios:\n",
    "\n",
    "Crea un array 3D de forma (2, 3, 5) y 30 elementos con números enteros entre 0 y 100 (ambos incluidos). Reemplaza los elementos en posiciones múltiplos de 3 por 0.\n",
    "\n",
    "Crea un array 3D de forma (2, 3, 4) con valores aleatorios entre 1 y 100 (ambos inclusive). Utiliza reshape para convertirlo en un array 2D. Deberás pensar en la forma que es correcta para hacer este cambio.\n",
    "\n",
    "Crea un array 3D de forma (3, 4, 5) con valores enteros del 1 al 61 (sin incluir). Utiliza reshape para convertirlo en un array 2D.\n",
    "\n",
    "Utiliza el array 3D del ejercicio anterior de reshape. Utiliza transpose para permutar los ejes y obtener un nuevo array con forma (5, 4, 3).\n",
    "\n",
    "Utiliza el array 3D del ejercicio anterior 3 de reshape. Utiliza transpose para cambiar el orden de los ejes y obtener un nuevo array con forma (3, 5, 4)."
   ]
  }
 ],
 "metadata": {
  "kernelspec": {
   "display_name": "Python 3",
   "language": "python",
   "name": "python3"
  },
  "language_info": {
   "codemirror_mode": {
    "name": "ipython",
    "version": 3
   },
   "file_extension": ".py",
   "mimetype": "text/x-python",
   "name": "python",
   "nbconvert_exporter": "python",
   "pygments_lexer": "ipython3",
   "version": "3.13.3"
  }
 },
 "nbformat": 4,
 "nbformat_minor": 5
}
